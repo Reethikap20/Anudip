{
 "cells": [
  {
   "cell_type": "code",
   "execution_count": 2,
   "id": "8de50f0c-be94-4a83-ae49-ef7194f70daf",
   "metadata": {},
   "outputs": [
    {
     "name": "stdout",
     "output_type": "stream",
     "text": [
      "The sum of all items in the list is: 15\n"
     ]
    }
   ],
   "source": [
    "#1. Write a Python program to sum all the items in a list.\n",
    "\n",
    "def sum_of_list(items):\n",
    "    return sum(items)  #Use the built-in sum function.\n",
    "\n",
    "#Input list\n",
    "numbers = [1,2,3,4,5]\n",
    "\n",
    "#Calculate the sum\n",
    "total = sum_of_list(numbers)\n",
    "\n",
    "#Display the result\n",
    "print(f\"The sum of all items in the list is: {total}\")"
   ]
  },
  {
   "cell_type": "code",
   "execution_count": null,
   "id": "43e07598-d8c4-4c48-b036-0f05a792b312",
   "metadata": {},
   "outputs": [],
   "source": []
  }
 ],
 "metadata": {
  "kernelspec": {
   "display_name": "Python 3 (ipykernel)",
   "language": "python",
   "name": "python3"
  },
  "language_info": {
   "codemirror_mode": {
    "name": "ipython",
    "version": 3
   },
   "file_extension": ".py",
   "mimetype": "text/x-python",
   "name": "python",
   "nbconvert_exporter": "python",
   "pygments_lexer": "ipython3",
   "version": "3.13.1"
  }
 },
 "nbformat": 4,
 "nbformat_minor": 5
}
