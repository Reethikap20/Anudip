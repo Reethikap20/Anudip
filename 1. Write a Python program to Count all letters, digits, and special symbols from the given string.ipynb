{
 "cells": [
  {
   "cell_type": "code",
   "execution_count": 1,
   "id": "351611ec-e6b3-4bd5-95e1-2302214d8e50",
   "metadata": {},
   "outputs": [
    {
     "name": "stdout",
     "output_type": "stream",
     "text": [
      "Chars = 8 , Digits = 3, Symbols = 4\n"
     ]
    }
   ],
   "source": [
    "#1. Write a Python program to Count all letters, digits, and special symbols from the given string \n",
    "# Input = “P@#yn26at^&i5ve” \n",
    "# Output: Chars = 8 Digits = 2 Symbol = 3 \n",
    "\n",
    "#Function to count elements\n",
    "def count_elements(input_string):\n",
    "    chars = digits = symbols = 0\n",
    "\n",
    "    for char in input_string:\n",
    "        if char.isalpha(): #check if the character is a letter\n",
    "            chars += 1\n",
    "        elif char.isdigit():\n",
    "            digits += 1\n",
    "        else: #Otherwose, it's a speacial symbol\n",
    "            symbols += 1\n",
    "\n",
    "    return chars, digits, symbols\n",
    "\n",
    "#Input string\n",
    "input_string = \"P@#yn26at^&i5ve\"\n",
    "\n",
    "#Count elements\n",
    "chars, digits, symbols = count_elements(input_string)\n",
    "\n",
    "#Display the result\n",
    "print(f\"Chars = {chars} , Digits = {digits}, Symbols = {symbols}\")\n"
   ]
  },
  {
   "cell_type": "code",
   "execution_count": null,
   "id": "2150ddd7-9300-42e3-aaf9-9726a1f0fd49",
   "metadata": {},
   "outputs": [],
   "source": []
  }
 ],
 "metadata": {
  "kernelspec": {
   "display_name": "Python 3 (ipykernel)",
   "language": "python",
   "name": "python3"
  },
  "language_info": {
   "codemirror_mode": {
    "name": "ipython",
    "version": 3
   },
   "file_extension": ".py",
   "mimetype": "text/x-python",
   "name": "python",
   "nbconvert_exporter": "python",
   "pygments_lexer": "ipython3",
   "version": "3.13.1"
  }
 },
 "nbformat": 4,
 "nbformat_minor": 5
}
