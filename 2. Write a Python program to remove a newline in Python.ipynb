{
 "cells": [
  {
   "cell_type": "code",
   "execution_count": 2,
   "id": "a7d376c1-f950-41d9-87ee-1ce6099692e9",
   "metadata": {},
   "outputs": [
    {
     "name": "stdout",
     "output_type": "stream",
     "text": [
      "String without newlines: Best  Deeptech  Python  Training\n"
     ]
    }
   ],
   "source": [
    "#2. Write a Python program to remove a newline in Python \n",
    "\n",
    "#String = \"\\nBest \\nDeeptech \\nPython \\nTraining\\n\" \n",
    "\n",
    "# Given string with newlines\n",
    "string = \"\\nBest \\nDeeptech \\nPython \\nTraining\\n\"\n",
    "\n",
    "# Remove all newlines\n",
    "result = string.replace(\"\\n\", \" \")\n",
    "\n",
    "# Strip any leading or trailing spaces\n",
    "result = result.strip()\n",
    "\n",
    "# Display the result\n",
    "print(\"String without newlines:\", result)\n"
   ]
  },
  {
   "cell_type": "code",
   "execution_count": null,
   "id": "8dfaf4a4-6d24-42bd-8ab9-9cffaf691ff3",
   "metadata": {},
   "outputs": [],
   "source": []
  }
 ],
 "metadata": {
  "kernelspec": {
   "display_name": "Python 3 (ipykernel)",
   "language": "python",
   "name": "python3"
  },
  "language_info": {
   "codemirror_mode": {
    "name": "ipython",
    "version": 3
   },
   "file_extension": ".py",
   "mimetype": "text/x-python",
   "name": "python",
   "nbconvert_exporter": "python",
   "pygments_lexer": "ipython3",
   "version": "3.13.1"
  }
 },
 "nbformat": 4,
 "nbformat_minor": 5
}
