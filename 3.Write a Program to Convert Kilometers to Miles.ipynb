{
 "cells": [
  {
   "cell_type": "code",
   "execution_count": 1,
   "id": "134888a3-25d3-4d2c-be7d-9b2323ef844e",
   "metadata": {},
   "outputs": [
    {
     "name": "stdin",
     "output_type": "stream",
     "text": [
      "Enter the distance in kilometers:  5\n"
     ]
    },
    {
     "name": "stdout",
     "output_type": "stream",
     "text": [
      "5.0 kilometers is equal to  3.106855miles.\n"
     ]
    }
   ],
   "source": [
    "#Write a Program to Convert Kilometers to Miles.\n",
    "\n",
    "#Taking input from the user in kilometers\n",
    "kilometers = float(input(\"Enter the distance in kilometers: \"))\n",
    "\n",
    "#Conversion factor\n",
    "conversion_factor = 0.621371\n",
    "\n",
    "#conversting kilometers to miles.\n",
    "miles = kilometers * conversion_factor\n",
    "\n",
    "#Display the result\n",
    "print(f\"{kilometers} kilometers is equal to {miles: 2f}miles.\")"
   ]
  },
  {
   "cell_type": "code",
   "execution_count": null,
   "id": "b614597f-3840-4f97-a3fa-3f1c2cd5531f",
   "metadata": {},
   "outputs": [],
   "source": []
  }
 ],
 "metadata": {
  "kernelspec": {
   "display_name": "Python 3 (ipykernel)",
   "language": "python",
   "name": "python3"
  },
  "language_info": {
   "codemirror_mode": {
    "name": "ipython",
    "version": 3
   },
   "file_extension": ".py",
   "mimetype": "text/x-python",
   "name": "python",
   "nbconvert_exporter": "python",
   "pygments_lexer": "ipython3",
   "version": "3.13.1"
  }
 },
 "nbformat": 4,
 "nbformat_minor": 5
}
