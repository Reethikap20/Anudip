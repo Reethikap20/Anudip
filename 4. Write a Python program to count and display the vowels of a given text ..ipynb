{
 "cells": [
  {
   "cell_type": "code",
   "execution_count": 1,
   "id": "0a8893d2-6df8-44c3-acc4-71613ee87155",
   "metadata": {},
   "outputs": [
    {
     "name": "stdout",
     "output_type": "stream",
     "text": [
      "Vowel occurrences:\n",
      "e: 2\n",
      "o: 3\n",
      "a: 1\n",
      "i: 2\n",
      "Total vowels: 8\n"
     ]
    }
   ],
   "source": [
    "#4. Write a Python program to count and display the vowels of a given text \n",
    "\n",
    "# String=”Welcome to python Training”\n",
    "\n",
    "# Given string\n",
    "string = \"Welcome to python Training\"\n",
    "\n",
    "# Convert the string to lowercase for case-insensitive comparison\n",
    "string_lower = string.lower()\n",
    "\n",
    "# Define the vowels\n",
    "vowels = \"aeiou\"\n",
    "\n",
    "# Count vowels and store them\n",
    "vowel_count = {}\n",
    "for char in string_lower:\n",
    "    if char in vowels:\n",
    "        vowel_count[char] = vowel_count.get(char, 0) + 1\n",
    "\n",
    "# Display the count of each vowel\n",
    "print(\"Vowel occurrences:\")\n",
    "for vowel, count in vowel_count.items():\n",
    "    print(f\"{vowel}: {count}\")\n",
    "\n",
    "# Display the total count of vowels\n",
    "total_vowels = sum(vowel_count.values())\n",
    "print(f\"Total vowels: {total_vowels}\")\n"
   ]
  },
  {
   "cell_type": "code",
   "execution_count": null,
   "id": "36297107-23dc-48f9-9e92-231ee710a7f0",
   "metadata": {},
   "outputs": [],
   "source": []
  }
 ],
 "metadata": {
  "kernelspec": {
   "display_name": "Python 3 (ipykernel)",
   "language": "python",
   "name": "python3"
  },
  "language_info": {
   "codemirror_mode": {
    "name": "ipython",
    "version": 3
   },
   "file_extension": ".py",
   "mimetype": "text/x-python",
   "name": "python",
   "nbconvert_exporter": "python",
   "pygments_lexer": "ipython3",
   "version": "3.13.1"
  }
 },
 "nbformat": 4,
 "nbformat_minor": 5
}
