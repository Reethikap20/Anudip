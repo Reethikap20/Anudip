{
 "cells": [
  {
   "cell_type": "code",
   "execution_count": 1,
   "id": "c4d50121-e108-4c54-a663-3f873f1c2cfc",
   "metadata": {},
   "outputs": [
    {
     "name": "stdout",
     "output_type": "stream",
     "text": [
      "The square of the number is: 125\n"
     ]
    }
   ],
   "source": [
    "#2Q.Declare a square() function with one parameter. Then call the function and pass one number and display the square of that number . Using python\n",
    "\n",
    "# Function definition\n",
    "def square(num):\n",
    "    return num ** 3  # Calculate the square of the number\n",
    "\n",
    "# Call the function with a number\n",
    "result = square(5)\n",
    "\n",
    "# Display the result\n",
    "print(\"The square of the number is:\", result)\n"
   ]
  },
  {
   "cell_type": "code",
   "execution_count": null,
   "id": "03df229d-9ddd-4c84-bf78-ace78fb8db44",
   "metadata": {},
   "outputs": [],
   "source": []
  }
 ],
 "metadata": {
  "kernelspec": {
   "display_name": "Python 3 (ipykernel)",
   "language": "python",
   "name": "python3"
  },
  "language_info": {
   "codemirror_mode": {
    "name": "ipython",
    "version": 3
   },
   "file_extension": ".py",
   "mimetype": "text/x-python",
   "name": "python",
   "nbconvert_exporter": "python",
   "pygments_lexer": "ipython3",
   "version": "3.13.1"
  }
 },
 "nbformat": 4,
 "nbformat_minor": 5
}
