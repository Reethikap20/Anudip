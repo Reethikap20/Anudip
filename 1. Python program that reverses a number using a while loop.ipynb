{
 "cells": [
  {
   "cell_type": "code",
   "execution_count": 1,
   "id": "24fc31de-bf04-4a40-ab83-f18b73146337",
   "metadata": {},
   "outputs": [
    {
     "name": "stdin",
     "output_type": "stream",
     "text": [
      "Enter a number:  181124\n"
     ]
    },
    {
     "name": "stdout",
     "output_type": "stream",
     "text": [
      "The reversed number is: 421181\n"
     ]
    }
   ],
   "source": [
    "#1. Write a python program to reverse a number using a while loop.\n",
    "\n",
    "#Reverse a number using while loop\n",
    "\n",
    "def reverse_number(num):\n",
    "    reversed_num = 0\n",
    "    while num > 0:\n",
    "        digit = num % 10\n",
    "        reversed_num = reversed_num * 10 + digit\n",
    "        num = num // 10\n",
    "    return reversed_num\n",
    "\n",
    "#inout from user\n",
    "number = int(input(\"Enter a number: \"))\n",
    "\n",
    "#Call the function diasplay the reversed number\n",
    "reversed_number = reverse_number(number)\n",
    "print(f\"The reversed number is: {reversed_number}\")\n"
   ]
  },
  {
   "cell_type": "code",
   "execution_count": null,
   "id": "3c3a58e9-832a-469c-8ae1-cdafd7cc7b32",
   "metadata": {},
   "outputs": [],
   "source": []
  }
 ],
 "metadata": {
  "kernelspec": {
   "display_name": "Python 3 (ipykernel)",
   "language": "python",
   "name": "python3"
  },
  "language_info": {
   "codemirror_mode": {
    "name": "ipython",
    "version": 3
   },
   "file_extension": ".py",
   "mimetype": "text/x-python",
   "name": "python",
   "nbconvert_exporter": "python",
   "pygments_lexer": "ipython3",
   "version": "3.13.1"
  }
 },
 "nbformat": 4,
 "nbformat_minor": 5
}
