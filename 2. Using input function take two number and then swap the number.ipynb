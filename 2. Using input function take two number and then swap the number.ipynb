{
 "cells": [
  {
   "cell_type": "code",
   "execution_count": 3,
   "id": "29f189a5-23a8-4952-9177-86af96c17190",
   "metadata": {},
   "outputs": [
    {
     "name": "stdin",
     "output_type": "stream",
     "text": [
      "Enter the First number:  5\n",
      "Enter the second number:  10\n"
     ]
    },
    {
     "name": "stdout",
     "output_type": "stream",
     "text": [
      "Before swapping: num1 = 5, num2 = 10\n",
      "After swapping: num1 = 10, num2 = 5\n"
     ]
    }
   ],
   "source": [
    "# Using input function take two number and then swap the number .\n",
    "\n",
    "#Taking two numbers as input from the user\n",
    "\n",
    "num1 = int(input(\"Enter the First number: \"))\n",
    "num2 = int(input(\"Enter the second number: \"))\n",
    "\n",
    "print(f\"Before swapping: num1 = {num1}, num2 = {num2}\")\n",
    "\n",
    "#Swapping the numbers\n",
    "num1, num2 = num2, num1\n",
    "\n",
    "print(f\"After swapping: num1 = {num1}, num2 = {num2}\")"
   ]
  },
  {
   "cell_type": "code",
   "execution_count": null,
   "id": "a822ec4f-eaa8-48eb-9f83-06793849019e",
   "metadata": {
    "scrolled": true
   },
   "outputs": [],
   "source": []
  }
 ],
 "metadata": {
  "kernelspec": {
   "display_name": "Python 3 (ipykernel)",
   "language": "python",
   "name": "python3"
  },
  "language_info": {
   "codemirror_mode": {
    "name": "ipython",
    "version": 3
   },
   "file_extension": ".py",
   "mimetype": "text/x-python",
   "name": "python",
   "nbconvert_exporter": "python",
   "pygments_lexer": "ipython3",
   "version": "3.13.1"
  }
 },
 "nbformat": 4,
 "nbformat_minor": 5
}
