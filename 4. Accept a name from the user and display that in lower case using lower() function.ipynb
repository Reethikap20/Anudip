{
 "cells": [
  {
   "cell_type": "code",
   "execution_count": 2,
   "id": "136a1a20-652d-4534-bc62-c1c16e20a8db",
   "metadata": {},
   "outputs": [
    {
     "name": "stdin",
     "output_type": "stream",
     "text": [
      "Enter your name:  REETHIKA\n"
     ]
    },
    {
     "name": "stdout",
     "output_type": "stream",
     "text": [
      "Your name in lowercase is: reethika\n"
     ]
    }
   ],
   "source": [
    "#4Q. Accept a name from the user and display that in lower case using lower() function.\n",
    "\n",
    "# Accept a name from the user\n",
    "name = input(\"Enter your name: \")\n",
    "\n",
    "#Convert the name to lowercase\n",
    "lowercase_name = name.lower()\n",
    "#Display the result\n",
    "print(\"Your name in lowercase is:\", lowercase_name)"
   ]
  },
  {
   "cell_type": "code",
   "execution_count": null,
   "id": "b0c15ca4-3dcc-468a-aa2c-865414f2fc46",
   "metadata": {},
   "outputs": [],
   "source": []
  }
 ],
 "metadata": {
  "kernelspec": {
   "display_name": "Python 3 (ipykernel)",
   "language": "python",
   "name": "python3"
  },
  "language_info": {
   "codemirror_mode": {
    "name": "ipython",
    "version": 3
   },
   "file_extension": ".py",
   "mimetype": "text/x-python",
   "name": "python",
   "nbconvert_exporter": "python",
   "pygments_lexer": "ipython3",
   "version": "3.13.1"
  }
 },
 "nbformat": 4,
 "nbformat_minor": 5
}
