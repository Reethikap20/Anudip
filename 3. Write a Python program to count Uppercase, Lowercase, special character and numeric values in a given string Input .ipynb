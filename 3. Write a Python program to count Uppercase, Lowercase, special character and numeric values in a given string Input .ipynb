{
 "cells": [
  {
   "cell_type": "code",
   "execution_count": 1,
   "id": "21a00cfd-948f-4f09-9872-db2ab179c85c",
   "metadata": {},
   "outputs": [
    {
     "name": "stdout",
     "output_type": "stream",
     "text": [
      "UpperCase: 5\n",
      "LowerCase: 18\n",
      "NumberCase: 5\n",
      "SpecialCase: 11\n"
     ]
    }
   ],
   "source": [
    "#3. Write a Python program to count Uppercase, Lowercase, special character and numeric values in a given string Input = “Hell0 W0rld ! 123 * # welcome to pYtHoN” \n",
    "\n",
    "#Output: \n",
    "\n",
    "#UpperCase : 5 \n",
    "\n",
    "#LowerCase : 18 \n",
    "\n",
    "#NumberCase : 5 \n",
    "\n",
    "#SpecialCase : 11 \n",
    "\n",
    "# Python program to count character types in a string\n",
    "\n",
    "def count_characters(input_string):\n",
    "    uppercase = lowercase = numbers = special = 0\n",
    "\n",
    "    for char in input_string:\n",
    "        if char.isupper():  # Check for uppercase\n",
    "            uppercase += 1\n",
    "        elif char.islower():  # Check for lowercase\n",
    "            lowercase += 1\n",
    "        elif char.isdigit():  # Check for numbers\n",
    "            numbers += 1\n",
    "        else:  # Everything else is special characters\n",
    "            special += 1\n",
    "\n",
    "    return uppercase, lowercase, numbers, special\n",
    "\n",
    "# Input string\n",
    "input_string = \"Hell0 W0rld ! 123 * # welcome to pYtHoN\"\n",
    "\n",
    "# Count character types\n",
    "uppercase, lowercase, numbers, special = count_characters(input_string)\n",
    "\n",
    "# Display the result\n",
    "print(f\"UpperCase: {uppercase}\")\n",
    "print(f\"LowerCase: {lowercase}\")\n",
    "print(f\"NumberCase: {numbers}\")\n",
    "print(f\"SpecialCase: {special}\")"
   ]
  },
  {
   "cell_type": "code",
   "execution_count": null,
   "id": "da190d36-8add-4d5b-92c9-a947f90e782b",
   "metadata": {},
   "outputs": [],
   "source": []
  }
 ],
 "metadata": {
  "kernelspec": {
   "display_name": "Python 3 (ipykernel)",
   "language": "python",
   "name": "python3"
  },
  "language_info": {
   "codemirror_mode": {
    "name": "ipython",
    "version": 3
   },
   "file_extension": ".py",
   "mimetype": "text/x-python",
   "name": "python",
   "nbconvert_exporter": "python",
   "pygments_lexer": "ipython3",
   "version": "3.13.1"
  }
 },
 "nbformat": 4,
 "nbformat_minor": 5
}
