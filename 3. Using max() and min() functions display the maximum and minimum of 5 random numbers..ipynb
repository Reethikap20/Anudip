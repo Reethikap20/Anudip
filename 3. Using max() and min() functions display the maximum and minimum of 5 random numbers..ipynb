{
 "cells": [
  {
   "cell_type": "code",
   "execution_count": 2,
   "id": "a508608e-2b70-4865-8c2f-25510c80e92e",
   "metadata": {},
   "outputs": [
    {
     "name": "stdout",
     "output_type": "stream",
     "text": [
      "Random numbers: [14, 25, 86, 4, 20]\n",
      "Maximum number: 86\n",
      "Minimum number: 4\n"
     ]
    }
   ],
   "source": [
    "#3Q. Using max() and min() functions display the maximum and minimum of 5 random numbers. \n",
    "import random\n",
    "\n",
    "#Generate 5 random numbers\n",
    "random_numbers = [random.randint(1, 100) for _ in range (5)]\n",
    "\n",
    "#Find the maximum and minimum.\n",
    "maximum = max(random_numbers)\n",
    "minimum = min(random_numbers)\n",
    "\n",
    "#Display the results\n",
    "print(\"Random numbers:\", random_numbers)\n",
    "print(\"Maximum number:\", maximum)\n",
    "print(\"Minimum number:\", minimum)\n"
   ]
  },
  {
   "cell_type": "code",
   "execution_count": null,
   "id": "add839c6-f2c4-4af5-9824-9a0cfe32ab6d",
   "metadata": {},
   "outputs": [],
   "source": []
  }
 ],
 "metadata": {
  "kernelspec": {
   "display_name": "Python 3 (ipykernel)",
   "language": "python",
   "name": "python3"
  },
  "language_info": {
   "codemirror_mode": {
    "name": "ipython",
    "version": 3
   },
   "file_extension": ".py",
   "mimetype": "text/x-python",
   "name": "python",
   "nbconvert_exporter": "python",
   "pygments_lexer": "ipython3",
   "version": "3.13.1"
  }
 },
 "nbformat": 4,
 "nbformat_minor": 5
}
