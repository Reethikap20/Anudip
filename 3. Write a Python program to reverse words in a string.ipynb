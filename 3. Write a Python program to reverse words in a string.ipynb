{
 "cells": [
  {
   "cell_type": "code",
   "execution_count": 2,
   "id": "c590e32d-a56c-4b0f-803a-e2bffc248590",
   "metadata": {},
   "outputs": [
    {
     "name": "stdout",
     "output_type": "stream",
     "text": [
      "Reversed words in the string: Training Python Deeptech\n"
     ]
    }
   ],
   "source": [
    "#3. Write a Python program to reverse words in a string \n",
    "\n",
    "# String = “Deeptech Python Training” \n",
    "\n",
    "# Given string\n",
    "string = \"Deeptech Python Training\"\n",
    "\n",
    "# Split the string into words\n",
    "words = string.split()\n",
    "\n",
    "# Reverse the list of words\n",
    "reversed_words = words[::-1]\n",
    "\n",
    "# Join the reversed words back into a single string\n",
    "result = \" \".join(reversed_words)\n",
    "\n",
    "# Display the result\n",
    "print(\"Reversed words in the string:\", result)\n"
   ]
  },
  {
   "cell_type": "code",
   "execution_count": null,
   "id": "a53861c1-882e-480d-ba01-59163e5fcd19",
   "metadata": {},
   "outputs": [],
   "source": []
  }
 ],
 "metadata": {
  "kernelspec": {
   "display_name": "Python 3 (ipykernel)",
   "language": "python",
   "name": "python3"
  },
  "language_info": {
   "codemirror_mode": {
    "name": "ipython",
    "version": 3
   },
   "file_extension": ".py",
   "mimetype": "text/x-python",
   "name": "python",
   "nbconvert_exporter": "python",
   "pygments_lexer": "ipython3",
   "version": "3.13.1"
  }
 },
 "nbformat": 4,
 "nbformat_minor": 5
}
