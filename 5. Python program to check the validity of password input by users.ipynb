{
 "cells": [
  {
   "cell_type": "code",
   "execution_count": 8,
   "id": "719b80a0-7e7a-45e7-a511-78c415f3d8c5",
   "metadata": {},
   "outputs": [
    {
     "name": "stdin",
     "output_type": "stream",
     "text": [
      "Enter your password:  P@ssword&1999\n"
     ]
    },
    {
     "name": "stdout",
     "output_type": "stream",
     "text": [
      "Password must contain atleast one  special charecter(@<#,$,%,^,&,+,=,!).\n"
     ]
    }
   ],
   "source": [
    "# 5. Python program to check the validity of password input by users.\n",
    "\n",
    "import re\n",
    "\n",
    "#To check password validity.\n",
    "def is_valid_password(password):\n",
    "    #Check the length of the password\n",
    "    if len(password) < 8:\n",
    "        return \"Password must be at least 8 characters long.\"\n",
    "    #Check for at least one lowercase letter\n",
    "    if not re.search(\"[a-z]\", password):\n",
    "        return \"Password must contain at least one lowercase letter.\"\n",
    "    #Check for at least one uppercase letter.\n",
    "    if not re.search(\"[A-Z]\", password):\n",
    "        return \"Password must contain at least one uppercase letter.\"\n",
    "    #Check for at least one digit\n",
    "    if not re.search(\"[0-9]\",password):\n",
    "        return \"Password must contain at least one digit.\"\n",
    "    #Check for at least  one special character\n",
    "    if not re.search(\"@#$^&+=!]\",password):\n",
    "        return \"Password must contain atleast one  special charecter(@<#,$,%,^,&,+,=,!).\"\n",
    "    #If all conditions are met\n",
    "    return \"Password is valid.\"\n",
    "#Input from user\n",
    "user_password = input(\"Enter your password: \")\n",
    "\n",
    "#Check and display result\n",
    "result = is_valid_password(user_password)\n",
    "print(result)"
   ]
  },
  {
   "cell_type": "code",
   "execution_count": null,
   "id": "ac628e15-60b1-499d-868c-95c5b9369596",
   "metadata": {},
   "outputs": [],
   "source": []
  }
 ],
 "metadata": {
  "kernelspec": {
   "display_name": "Python 3 (ipykernel)",
   "language": "python",
   "name": "python3"
  },
  "language_info": {
   "codemirror_mode": {
    "name": "ipython",
    "version": 3
   },
   "file_extension": ".py",
   "mimetype": "text/x-python",
   "name": "python",
   "nbconvert_exporter": "python",
   "pygments_lexer": "ipython3",
   "version": "3.13.1"
  }
 },
 "nbformat": 4,
 "nbformat_minor": 5
}
