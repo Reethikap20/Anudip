{
 "cells": [
  {
   "cell_type": "code",
   "execution_count": 10,
   "id": "58c8588f-30f3-4b80-9135-ff561ec7e2c4",
   "metadata": {},
   "outputs": [
    {
     "name": "stdin",
     "output_type": "stream",
     "text": [
      "Enter a number:  153\n"
     ]
    },
    {
     "name": "stdout",
     "output_type": "stream",
     "text": [
      "153 is an Armstrong number.\n"
     ]
    }
   ],
   "source": [
    "#3. Python program to check if a given number is an Armstrong number.\n",
    "\n",
    "# Python program to check if a number is an Armstrong number\n",
    "\n",
    "# Function to check Armstrong number\n",
    "def is_armstrong(number):\n",
    "    # Convert the number to a string to extract digits\n",
    "    digits = [int(digit) for digit in str(number)]\n",
    "    # Calculate the sum of the digits raised to the power of the number of digits\n",
    "    power = len(digits)\n",
    "    armstrong_sum = sum(digit ** power for digit in digits)\n",
    "    # Check if the sum is equal to the original number\n",
    "    return armstrong_sum == number\n",
    "\n",
    "# Input from user\n",
    "num = int(input(\"Enter a number: \"))\n",
    "\n",
    "# Check and display result\n",
    "if is_armstrong(num):\n",
    "    print(f\"{num} is an Armstrong number.\")\n",
    "else:\n",
    "    print(f\"{num} is not an Armstrong number.\")\n"
   ]
  },
  {
   "cell_type": "code",
   "execution_count": null,
   "id": "b419b5c2-9f5c-4f9c-afa9-0e281a08bd50",
   "metadata": {},
   "outputs": [],
   "source": []
  }
 ],
 "metadata": {
  "kernelspec": {
   "display_name": "Python 3 (ipykernel)",
   "language": "python",
   "name": "python3"
  },
  "language_info": {
   "codemirror_mode": {
    "name": "ipython",
    "version": 3
   },
   "file_extension": ".py",
   "mimetype": "text/x-python",
   "name": "python",
   "nbconvert_exporter": "python",
   "pygments_lexer": "ipython3",
   "version": "3.13.1"
  }
 },
 "nbformat": 4,
 "nbformat_minor": 5
}
