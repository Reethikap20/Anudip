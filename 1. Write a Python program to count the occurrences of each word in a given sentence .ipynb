{
 "cells": [
  {
   "cell_type": "code",
   "execution_count": 5,
   "id": "066e9d3b-adcf-4d7d-92f6-6491e7f9897d",
   "metadata": {},
   "outputs": [
    {
     "name": "stdout",
     "output_type": "stream",
     "text": [
      "Word occurrences:\n",
      "to: 2\n",
      "change: 2\n",
      "the: 3\n",
      "overall: 1\n",
      "look: 2\n",
      "of: 1\n",
      "your: 1\n",
      "document: 1\n",
      "available: 1\n",
      "in: 1\n",
      "gallery: 1\n"
     ]
    }
   ],
   "source": [
    "#1Q.1. Write a Python program to count the occurrences of each word in a given sentence \n",
    "\n",
    "# string = “To change the overall look of your document. To change the look available in the gallery” \n",
    "\n",
    "# Given string\n",
    "string = \"To change the overall look of your document. To change the look available in the gallery\"\n",
    "\n",
    "# Split the string into words and normalize case\n",
    "words = string.lower().split()\n",
    "\n",
    "# Remove punctuation from words\n",
    "words = [word.strip(\".,!?\") for word in words]\n",
    "\n",
    "# Create a dictionary to store word counts\n",
    "word_counts = {}\n",
    "\n",
    "# Count occurrences of each word\n",
    "for word in words:\n",
    "    word_counts[word] = word_counts.get(word, 0) + 1\n",
    "\n",
    "# Display the word counts\n",
    "print(\"Word occurrences:\")\n",
    "for word, count in word_counts.items():\n",
    "    print(f\"{word}: {count}\")"
   ]
  },
  {
   "cell_type": "code",
   "execution_count": null,
   "id": "45b480e5-da59-4635-9733-01b9e7ef1796",
   "metadata": {},
   "outputs": [],
   "source": []
  }
 ],
 "metadata": {
  "kernelspec": {
   "display_name": "Python 3 (ipykernel)",
   "language": "python",
   "name": "python3"
  },
  "language_info": {
   "codemirror_mode": {
    "name": "ipython",
    "version": 3
   },
   "file_extension": ".py",
   "mimetype": "text/x-python",
   "name": "python",
   "nbconvert_exporter": "python",
   "pygments_lexer": "ipython3",
   "version": "3.13.1"
  }
 },
 "nbformat": 4,
 "nbformat_minor": 5
}
