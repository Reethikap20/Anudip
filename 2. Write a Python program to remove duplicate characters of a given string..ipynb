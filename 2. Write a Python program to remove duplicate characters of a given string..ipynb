{
 "cells": [
  {
   "cell_type": "code",
   "execution_count": 8,
   "id": "a48b4cc7-7acf-40fc-aa8b-1343beb0d97d",
   "metadata": {},
   "outputs": [
    {
     "name": "stdout",
     "output_type": "stream",
     "text": [
      "Output: String adFuco\n"
     ]
    }
   ],
   "source": [
    "# 2. Write a Python program to remove duplicate characters of a given string. \n",
    "# Input = “String and String Function” \n",
    "# Output: String and Function \n",
    "\n",
    "# Python program to remove duplicate characters from a string\n",
    "\n",
    "def remove_duplicates(input_string):\n",
    "    result = \"\"\n",
    "    seen = set()  # To track characters already added to the result\n",
    "    \n",
    "    for char in input_string:\n",
    "        if char not in seen:\n",
    "            result += char  # Add unique character to result\n",
    "            seen.add(char)  # Mark the character as seen\n",
    "    \n",
    "    return result\n",
    "\n",
    "# Input string\n",
    "input_string = \"String and String Function\"\n",
    "\n",
    "# Remove duplicates\n",
    "output = remove_duplicates(input_string)\n",
    "\n",
    "# Display the result\n",
    "print(\"Output:\", output)\n"
   ]
  },
  {
   "cell_type": "code",
   "execution_count": null,
   "id": "7b470793-11ed-4f1b-8212-ba848c57159a",
   "metadata": {},
   "outputs": [],
   "source": []
  }
 ],
 "metadata": {
  "kernelspec": {
   "display_name": "Python 3 (ipykernel)",
   "language": "python",
   "name": "python3"
  },
  "language_info": {
   "codemirror_mode": {
    "name": "ipython",
    "version": 3
   },
   "file_extension": ".py",
   "mimetype": "text/x-python",
   "name": "python",
   "nbconvert_exporter": "python",
   "pygments_lexer": "ipython3",
   "version": "3.13.1"
  }
 },
 "nbformat": 4,
 "nbformat_minor": 5
}
