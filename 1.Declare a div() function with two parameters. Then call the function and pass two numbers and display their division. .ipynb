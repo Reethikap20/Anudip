{
 "cells": [
  {
   "cell_type": "code",
   "execution_count": 7,
   "id": "960751bd-a1f8-4a41-a9b1-597c88490161",
   "metadata": {},
   "outputs": [
    {
     "name": "stdout",
     "output_type": "stream",
     "text": [
      "The division result is: 5.0\n"
     ]
    }
   ],
   "source": [
    "#1Q. Declare a div() function with two parameters. Then call the function and pass two numbers and display their division. \n",
    "# Function definition\n",
    "def div(a, b):\n",
    "    # Check to prevent division by zero\n",
    "    if b == 0:\n",
    "        return \"Error: Division by zero is not allowed.\"\n",
    "    return a / b\n",
    "\n",
    "# Call the function with two numbers\n",
    "result = div(10, 2)\n",
    "\n",
    "# Display the result\n",
    "print(\"The division result is:\", result)\n"
   ]
  },
  {
   "cell_type": "code",
   "execution_count": null,
   "id": "4cd06627-36c4-484e-baf4-b5f88515c705",
   "metadata": {},
   "outputs": [],
   "source": []
  }
 ],
 "metadata": {
  "kernelspec": {
   "display_name": "Python 3 (ipykernel)",
   "language": "python",
   "name": "python3"
  },
  "language_info": {
   "codemirror_mode": {
    "name": "ipython",
    "version": 3
   },
   "file_extension": ".py",
   "mimetype": "text/x-python",
   "name": "python",
   "nbconvert_exporter": "python",
   "pygments_lexer": "ipython3",
   "version": "3.13.1"
  }
 },
 "nbformat": 4,
 "nbformat_minor": 5
}
