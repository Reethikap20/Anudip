{
 "cells": [
  {
   "cell_type": "code",
   "execution_count": 1,
   "id": "cc5e822d-43cc-4a4f-a7f5-c82c8d1489c3",
   "metadata": {},
   "outputs": [
    {
     "name": "stdin",
     "output_type": "stream",
     "text": [
      "Enter a  number:  4\n"
     ]
    },
    {
     "name": "stdout",
     "output_type": "stream",
     "text": [
      "The number 4 is Even.\n"
     ]
    }
   ],
   "source": [
    "# Using input() function take one number from the user and using ternary operators check whether the number is even or odd .\n",
    "\n",
    "#Taking input from the user\n",
    "number = int(input(\"Enter a  number: \"))\n",
    "\n",
    "#Using ternary operator to check even or odd\n",
    "result = \"Even\" if number % 2 == 0 else \"odd\"\n",
    "\n",
    "#Display the result\n",
    "print(f\"The number {number} is {result}.\")"
   ]
  },
  {
   "cell_type": "code",
   "execution_count": null,
   "id": "ce467e30-0c08-4b0f-8dfb-b00f92951a19",
   "metadata": {},
   "outputs": [],
   "source": []
  }
 ],
 "metadata": {
  "kernelspec": {
   "display_name": "Python 3 (ipykernel)",
   "language": "python",
   "name": "python3"
  },
  "language_info": {
   "codemirror_mode": {
    "name": "ipython",
    "version": 3
   },
   "file_extension": ".py",
   "mimetype": "text/x-python",
   "name": "python",
   "nbconvert_exporter": "python",
   "pygments_lexer": "ipython3",
   "version": "3.13.1"
  }
 },
 "nbformat": 4,
 "nbformat_minor": 5
}
