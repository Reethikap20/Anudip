{
 "cells": [
  {
   "cell_type": "code",
   "execution_count": 1,
   "id": "91dacee8-6b7e-49b4-9dc6-f517bb9cce09",
   "metadata": {},
   "outputs": [
    {
     "name": "stdout",
     "output_type": "stream",
     "text": [
      "Original list: [1, 1, 2, 3, 4, 4, 5, 1]\n",
      "Length of the first part of the list: 3\n",
      "Splitted the said list into two parts: [1, 1, 2], [3, 4, 4, 5, 1]\n"
     ]
    }
   ],
   "source": [
    "#4. Write a Python program to split a given list into two parts where the length of the first part of the list is given. \n",
    "\n",
    "#Original list: [1, 1, 2, 3, 4, 4, 5, 1] \n",
    "\n",
    "#Length of the first part of the list: 3 \n",
    "\n",
    "#Splitted the said list into two parts: ([1, 1, 2], [3, 4, 4, 5, 1]) \n",
    "\n",
    "def split_list(original_list, first_part_length):\n",
    "    # Split the list based on the given length of the first part\n",
    "    first_part = original_list[:first_part_length]\n",
    "    second_part = original_list[first_part_length:]\n",
    "    return first_part, second_part\n",
    "\n",
    "# Input list and length of the first part\n",
    "original_list = [1, 1, 2, 3, 4, 4, 5, 1]\n",
    "first_part_length = 3\n",
    "\n",
    "# Split the list\n",
    "first_part, second_part = split_list(original_list, first_part_length)\n",
    "\n",
    "# Display the results\n",
    "print(f\"Original list: {original_list}\")\n",
    "print(f\"Length of the first part of the list: {first_part_length}\")\n",
    "print(f\"Splitted the said list into two parts: {first_part}, {second_part}\")"
   ]
  },
  {
   "cell_type": "code",
   "execution_count": null,
   "id": "0d73008f-6f61-407d-abc8-4e21cb82de5c",
   "metadata": {},
   "outputs": [],
   "source": []
  }
 ],
 "metadata": {
  "kernelspec": {
   "display_name": "Python 3 (ipykernel)",
   "language": "python",
   "name": "python3"
  },
  "language_info": {
   "codemirror_mode": {
    "name": "ipython",
    "version": 3
   },
   "file_extension": ".py",
   "mimetype": "text/x-python",
   "name": "python",
   "nbconvert_exporter": "python",
   "pygments_lexer": "ipython3",
   "version": "3.13.1"
  }
 },
 "nbformat": 4,
 "nbformat_minor": 5
}
