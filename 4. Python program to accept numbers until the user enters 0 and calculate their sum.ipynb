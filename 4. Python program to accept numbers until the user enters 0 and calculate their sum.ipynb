{
 "cells": [
  {
   "cell_type": "code",
   "execution_count": 6,
   "id": "8456554f-76c7-4ca6-bdd8-17342064c857",
   "metadata": {},
   "outputs": [
    {
     "name": "stdout",
     "output_type": "stream",
     "text": [
      "Enter numbers to add to the sum. Enter 0 to stop.\n"
     ]
    },
    {
     "name": "stdin",
     "output_type": "stream",
     "text": [
      "Enter a number:  5\n",
      "Enter a number:  25\n",
      "Enter a number:  20\n",
      "Enter a number:  18\n",
      "Enter a number:  0\n"
     ]
    },
    {
     "name": "stdout",
     "output_type": "stream",
     "text": [
      "The total sum of all numbers is: 68\n"
     ]
    }
   ],
   "source": [
    "#4. Accept numbers using input() function until the user enters 0. If user input 0 then break the while loop and display the sum of all the numbers.\n",
    "\n",
    "# Initialize the sum\n",
    "total_sum = 0\n",
    "\n",
    "print(\"Enter numbers to add to the sum. Enter 0 to stop.\")\n",
    "\n",
    "# Start the while loop\n",
    "while True:\n",
    "    number = int(input(\"Enter a number: \"))\n",
    "    if number == 0:  # Check if the input is 0\n",
    "        break  # Exit the loop\n",
    "    total_sum += number  # Add the number to the sum\n",
    "\n",
    "# Display the total sum\n",
    "print(f\"The total sum of all numbers is: {total_sum}\")\n"
   ]
  },
  {
   "cell_type": "code",
   "execution_count": null,
   "id": "c27d9068-1609-4608-887c-a04c233711d6",
   "metadata": {},
   "outputs": [],
   "source": []
  }
 ],
 "metadata": {
  "kernelspec": {
   "display_name": "Python 3 (ipykernel)",
   "language": "python",
   "name": "python3"
  },
  "language_info": {
   "codemirror_mode": {
    "name": "ipython",
    "version": 3
   },
   "file_extension": ".py",
   "mimetype": "text/x-python",
   "name": "python",
   "nbconvert_exporter": "python",
   "pygments_lexer": "ipython3",
   "version": "3.13.1"
  }
 },
 "nbformat": 4,
 "nbformat_minor": 5
}
