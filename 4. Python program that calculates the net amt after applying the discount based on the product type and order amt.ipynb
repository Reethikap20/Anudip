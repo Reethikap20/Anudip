{
 "cells": [
  {
   "cell_type": "code",
   "execution_count": 10,
   "id": "afc5847d-560e-439e-8078-aede5f9d9231",
   "metadata": {},
   "outputs": [
    {
     "name": "stdin",
     "output_type": "stream",
     "text": [
      "Enter the product code (1 for Battery-based, 2 for Key-based, 3 for Electrical charging-based):  2\n",
      "Enter the order amount:  1000\n"
     ]
    },
    {
     "name": "stdout",
     "output_type": "stream",
     "text": [
      "The net amount after discount is: Rs. 950.00\n"
     ]
    }
   ],
   "source": [
    "#A toy vendor supplies three types of toys: Battery Based Toys, Key-based Toys, and Electrical Charging Based Toys. The vendor gives a discount of 10% on orders for battery-based toys if the order is for more than Rs. 1000. On orders of more than Rs. 100 for key-based toys, a discount of 5% is given, and a discount of 10% is given on orders for electrical charging based toys of value more than Rs. 500. Assume that the numeric codes 1,2 and 3 are used for battery based toys, key-based toys, and electrical charging based toys respectively. Write a program that reads the product code and the order amount and prints out the net amount that the customer is required to pay after the discount. \n",
    "\n",
    "#calculate net amt=ount after discount.\n",
    "\n",
    "# Function to calculate net amount after discount\n",
    "def calculate_net_amount(product_code, order_amount):\n",
    "    discount = 0  # Initialize discount\n",
    "\n",
    "    # Check for battery-based toys (product code 1)\n",
    "    if product_code == 1:\n",
    "        if order_amount > 1000:\n",
    "            discount = 10  # 10% discount\n",
    "        else:\n",
    "            discount = 0\n",
    "\n",
    "    # Check for key-based toys (product code 2)\n",
    "    elif product_code == 2:\n",
    "        if order_amount > 100:\n",
    "            discount = 5  # 5% discount\n",
    "        else:\n",
    "            discount = 0\n",
    "\n",
    "    # Check for electrical charging-based toys (product code 3)\n",
    "    elif product_code == 3:\n",
    "        if order_amount > 500:\n",
    "            discount = 10  # 10% discount\n",
    "        else:\n",
    "            discount = 0\n",
    "\n",
    "    # Calculate net amount after discount\n",
    "    net_amount = order_amount - (order_amount * discount / 100)\n",
    "    return net_amount\n",
    "\n",
    "# Take inputs\n",
    "product_code = int(input(\"Enter the product code (1 for Battery-based, 2 for Key-based, 3 for Electrical charging-based): \"))\n",
    "order_amount = float(input(\"Enter the order amount: \"))\n",
    "\n",
    "# Calculate and display the net amount\n",
    "net_amount = calculate_net_amount(product_code, order_amount)\n",
    "print(f\"The net amount after discount is: Rs. {net_amount:.2f}\")\n"
   ]
  },
  {
   "cell_type": "code",
   "execution_count": null,
   "id": "03904e20-db99-42bf-bba1-dcd16e3442ff",
   "metadata": {},
   "outputs": [],
   "source": []
  }
 ],
 "metadata": {
  "kernelspec": {
   "display_name": "Python 3 (ipykernel)",
   "language": "python",
   "name": "python3"
  },
  "language_info": {
   "codemirror_mode": {
    "name": "ipython",
    "version": 3
   },
   "file_extension": ".py",
   "mimetype": "text/x-python",
   "name": "python",
   "nbconvert_exporter": "python",
   "pygments_lexer": "ipython3",
   "version": "3.13.1"
  }
 },
 "nbformat": 4,
 "nbformat_minor": 5
}
