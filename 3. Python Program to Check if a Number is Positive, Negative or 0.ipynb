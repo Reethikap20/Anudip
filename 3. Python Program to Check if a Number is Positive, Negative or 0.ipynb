{
 "cells": [
  {
   "cell_type": "code",
   "execution_count": 5,
   "id": "e7e8315d-14ad-4b71-a34e-028f71c53889",
   "metadata": {},
   "outputs": [
    {
     "name": "stdin",
     "output_type": "stream",
     "text": [
      "Enter a number:  -5\n"
     ]
    },
    {
     "name": "stdout",
     "output_type": "stream",
     "text": [
      "The number is Negative.\n"
     ]
    }
   ],
   "source": [
    "#Python Program to Check if a Number is Positive, Negative or 0.\n",
    "\n",
    "#To check whether the number is poistive, negative or zero.\n",
    "def check_number(num):\n",
    "    if  num > 0:\n",
    "        return \"Positive\"\n",
    "    elif num < 0:\n",
    "         return \"Negative\"\n",
    "    else:\n",
    "        return \"Zero\"\n",
    "\n",
    "#Take input from the user\n",
    "num = float(input(\"Enter a number: \"))\n",
    "\n",
    "#check and display the result\n",
    "result = check_number(num)\n",
    "print(f\"The number is {result}.\")\n"
   ]
  },
  {
   "cell_type": "code",
   "execution_count": null,
   "id": "745d568d-9e20-4385-bad8-1475116388ea",
   "metadata": {},
   "outputs": [],
   "source": []
  }
 ],
 "metadata": {
  "kernelspec": {
   "display_name": "Python 3 (ipykernel)",
   "language": "python",
   "name": "python3"
  },
  "language_info": {
   "codemirror_mode": {
    "name": "ipython",
    "version": 3
   },
   "file_extension": ".py",
   "mimetype": "text/x-python",
   "name": "python",
   "nbconvert_exporter": "python",
   "pygments_lexer": "ipython3",
   "version": "3.13.1"
  }
 },
 "nbformat": 4,
 "nbformat_minor": 5
}
