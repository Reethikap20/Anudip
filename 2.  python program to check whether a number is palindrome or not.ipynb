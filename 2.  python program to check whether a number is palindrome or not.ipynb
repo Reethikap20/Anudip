{
 "cells": [
  {
   "cell_type": "code",
   "execution_count": 1,
   "id": "ee067f5d-3921-4024-874f-3aee1bfcac02",
   "metadata": {},
   "outputs": [
    {
     "name": "stdin",
     "output_type": "stream",
     "text": [
      "Enter a number:  131\n"
     ]
    },
    {
     "name": "stdout",
     "output_type": "stream",
     "text": [
      "131 is a palindrome.\n"
     ]
    }
   ],
   "source": [
    "#2. Write a python program to check whether a number is palindrome or not? \n",
    "\n",
    "#Check if number is palindrome or not.\n",
    "\n",
    "def is_palindrome(num):\n",
    "    original_num = num  #store original number\n",
    "    reversed_num = 0   #reversed number to 0\n",
    "\n",
    "    #Reverse the number using while loop\n",
    "    while num > 0:\n",
    "        digit = num % 10\n",
    "        reversed_num = reversed_num * 10 + digit\n",
    "        num = num // 10\n",
    "\n",
    "    # Check if the reversed number is equal to original number\n",
    "    return original_num == reversed_num\n",
    "\n",
    "# Take input from user\n",
    "number = int(input(\"Enter a number: \"))\n",
    "\n",
    "#Check if the number is a palindrome.\n",
    "if is_palindrome(number):\n",
    "    print(f\"{number} is a palindrome.\")\n",
    "else:\n",
    "    print(f\"{number} is not a palindrome.\")"
   ]
  },
  {
   "cell_type": "code",
   "execution_count": null,
   "id": "fc3fb967-e9e6-4c59-af76-0babe8f5036b",
   "metadata": {},
   "outputs": [],
   "source": []
  }
 ],
 "metadata": {
  "kernelspec": {
   "display_name": "Python 3 (ipykernel)",
   "language": "python",
   "name": "python3"
  },
  "language_info": {
   "codemirror_mode": {
    "name": "ipython",
    "version": 3
   },
   "file_extension": ".py",
   "mimetype": "text/x-python",
   "name": "python",
   "nbconvert_exporter": "python",
   "pygments_lexer": "ipython3",
   "version": "3.13.1"
  }
 },
 "nbformat": 4,
 "nbformat_minor": 5
}
