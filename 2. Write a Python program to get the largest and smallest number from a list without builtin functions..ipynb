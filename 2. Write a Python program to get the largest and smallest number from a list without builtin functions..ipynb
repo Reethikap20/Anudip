{
 "cells": [
  {
   "cell_type": "code",
   "execution_count": 4,
   "id": "0b4aa65d-390a-426f-91ee-503ebcd8d1fd",
   "metadata": {},
   "outputs": [
    {
     "name": "stdout",
     "output_type": "stream",
     "text": [
      "Largest number is: 90\n",
      "Smallest number is: 10\n"
     ]
    }
   ],
   "source": [
    "#2. Write a Python program to get the largest and smallest number from a list without builtin functions. \n",
    "\n",
    "def find_largest_smallest(numbers):\n",
    "    # Initialize the largest and smallest with the first element of the list\n",
    "    largest = smallest = numbers[0]\n",
    "\n",
    "    # Iterate through the list to find the largest and smallest\n",
    "    for num in numbers:\n",
    "        if num > largest:\n",
    "            largest = num\n",
    "        elif num < smallest:\n",
    "            smallest = num\n",
    "\n",
    "    return largest, smallest\n",
    "\n",
    "# Input list\n",
    "numbers = [10,30,50,70,90]\n",
    "\n",
    "# Find the largest and smallest numbers\n",
    "largest, smallest = find_largest_smallest(numbers)\n",
    "\n",
    "# Display the results\n",
    "print(f\"Largest number is: {largest}\")\n",
    "print(f\"Smallest number is: {smallest}\")"
   ]
  },
  {
   "cell_type": "code",
   "execution_count": null,
   "id": "82dd1c93-a7fa-43b0-a24c-cc7cc7b5da39",
   "metadata": {},
   "outputs": [],
   "source": []
  }
 ],
 "metadata": {
  "kernelspec": {
   "display_name": "Python 3 (ipykernel)",
   "language": "python",
   "name": "python3"
  },
  "language_info": {
   "codemirror_mode": {
    "name": "ipython",
    "version": 3
   },
   "file_extension": ".py",
   "mimetype": "text/x-python",
   "name": "python",
   "nbconvert_exporter": "python",
   "pygments_lexer": "ipython3",
   "version": "3.13.1"
  }
 },
 "nbformat": 4,
 "nbformat_minor": 5
}
