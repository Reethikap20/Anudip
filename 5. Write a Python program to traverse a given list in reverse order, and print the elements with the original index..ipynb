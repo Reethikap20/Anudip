{
 "cells": [
  {
   "cell_type": "code",
   "execution_count": 3,
   "id": "aa8b89d8-baa6-4136-bcac-230242a9ac3a",
   "metadata": {},
   "outputs": [
    {
     "name": "stdout",
     "output_type": "stream",
     "text": [
      "Traverse the said list in reverse order:\n",
      "Index 3: black\n",
      "Index 2: white\n",
      "Index 1: green\n",
      "Index 0: red\n"
     ]
    }
   ],
   "source": [
    "# 5. Write a Python program to traverse a given list in reverse order, and print the elements with the original index. Original list: ['red', 'green', 'white', 'black'] \n",
    "\n",
    "# Traverse the said list in reverse order: \n",
    "\n",
    "# black \n",
    "\n",
    "# white \n",
    "\n",
    "# green\n",
    "\n",
    "# red\n",
    "\n",
    "def traverse_reverse(original_list):\n",
    "    # Traverse the list in reverse order using reversed() and enumerate() to print index and element\n",
    "    for index, value in enumerate(reversed(original_list)):\n",
    "        print(f\"Index {len(original_list) - index - 1}: {value}\")\n",
    "\n",
    "# Input list\n",
    "original_list = ['red', 'green', 'white', 'black']\n",
    "\n",
    "# Display the result\n",
    "print(\"Traverse the said list in reverse order:\")\n",
    "traverse_reverse(original_list)\n"
   ]
  },
  {
   "cell_type": "code",
   "execution_count": null,
   "id": "8cb6a513-4406-4a9d-ac1f-797693bdffbf",
   "metadata": {},
   "outputs": [],
   "source": []
  }
 ],
 "metadata": {
  "kernelspec": {
   "display_name": "Python 3 (ipykernel)",
   "language": "python",
   "name": "python3"
  },
  "language_info": {
   "codemirror_mode": {
    "name": "ipython",
    "version": 3
   },
   "file_extension": ".py",
   "mimetype": "text/x-python",
   "name": "python",
   "nbconvert_exporter": "python",
   "pygments_lexer": "ipython3",
   "version": "3.13.1"
  }
 },
 "nbformat": 4,
 "nbformat_minor": 5
}
