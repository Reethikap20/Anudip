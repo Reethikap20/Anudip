{
 "cells": [
  {
   "cell_type": "code",
   "execution_count": 3,
   "id": "05ac23a3-42cd-46a2-b882-079eb4c21c74",
   "metadata": {},
   "outputs": [
    {
     "name": "stdin",
     "output_type": "stream",
     "text": [
      "Enter the distance traveled (in km):  200\n"
     ]
    },
    {
     "name": "stdout",
     "output_type": "stream",
     "text": [
      "The fare for travelling 200.0 km is: Rs. 2400.00\n"
     ]
    }
   ],
   "source": [
    "#. A transport company charges the fare according to following table: \n",
    "\n",
    "# Distance     Charges \n",
    "\n",
    "# 1-50             8 Rs./Km \n",
    "\n",
    "# 51-100         10 Rs./Km\n",
    "\n",
    "# > 100           12 Rs/Km\n",
    "\n",
    "#calculating fare based on distance\n",
    "\n",
    "def calculate_fare(distance):\n",
    "    if 1 <= distance <= 50:\n",
    "        fare = distance * 8  #8 Rs per km\n",
    "    elif 51 <= distance <= 100:\n",
    "        fare = distance * 10  #10 Rs per km\n",
    "    elif distance > 100:\n",
    "        fare = distance * 12 #12 Rs per km\n",
    "    else:\n",
    "        fare = 0 #No fare for distance less than 1 km\n",
    "    return fare\n",
    "\n",
    "#Take input for the distance\n",
    "distance = float(input(\"Enter the distance traveled (in km): \"))\n",
    "\n",
    "#Calculating and displaying the fare.\n",
    "fare = calculate_fare(distance)\n",
    "print(f\"The fare for travelling {distance} km is: Rs.{fare: .2f}\")\n"
   ]
  },
  {
   "cell_type": "code",
   "execution_count": null,
   "id": "d8b57193-b731-4778-ac08-577117317536",
   "metadata": {},
   "outputs": [],
   "source": []
  }
 ],
 "metadata": {
  "kernelspec": {
   "display_name": "Python 3 (ipykernel)",
   "language": "python",
   "name": "python3"
  },
  "language_info": {
   "codemirror_mode": {
    "name": "ipython",
    "version": 3
   },
   "file_extension": ".py",
   "mimetype": "text/x-python",
   "name": "python",
   "nbconvert_exporter": "python",
   "pygments_lexer": "ipython3",
   "version": "3.13.1"
  }
 },
 "nbformat": 4,
 "nbformat_minor": 5
}
