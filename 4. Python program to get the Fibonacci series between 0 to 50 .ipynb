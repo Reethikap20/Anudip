{
 "cells": [
  {
   "cell_type": "code",
   "execution_count": 1,
   "id": "a2f95307-32d3-43d4-90ea-fd7da8ea7cd8",
   "metadata": {},
   "outputs": [
    {
     "name": "stdout",
     "output_type": "stream",
     "text": [
      "Fibonacci series between 0 and 50:\n",
      "0 1 1 2 3 5 8 13 21 34 "
     ]
    }
   ],
   "source": [
    "# 4. Python program to get the Fibonacci series between 0 to 50.\n",
    "\n",
    "#To generate Finonacci series\n",
    "def fibonacci_series(limit):\n",
    "    a, b = 0 , 1\n",
    "    while a <= limit:\n",
    "        print(a, end=\" \")\n",
    "        a,b = b, a + b\n",
    "\n",
    "#To set the limit to 50.\n",
    "limit = 50\n",
    "print(f\"Fibonacci series between 0 and {limit}:\")\n",
    "fibonacci_series(limit)\n"
   ]
  },
  {
   "cell_type": "code",
   "execution_count": null,
   "id": "8028b508-712b-4117-8591-a7368db6a366",
   "metadata": {},
   "outputs": [],
   "source": []
  }
 ],
 "metadata": {
  "kernelspec": {
   "display_name": "Python 3 (ipykernel)",
   "language": "python",
   "name": "python3"
  },
  "language_info": {
   "codemirror_mode": {
    "name": "ipython",
    "version": 3
   },
   "file_extension": ".py",
   "mimetype": "text/x-python",
   "name": "python",
   "nbconvert_exporter": "python",
   "pygments_lexer": "ipython3",
   "version": "3.13.1"
  }
 },
 "nbformat": 4,
 "nbformat_minor": 5
}
