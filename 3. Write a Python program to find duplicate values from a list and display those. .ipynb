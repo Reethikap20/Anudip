{
 "cells": [
  {
   "cell_type": "code",
   "execution_count": 1,
   "id": "e9c48d8b-81ac-42ee-b5bd-90d256adccdb",
   "metadata": {},
   "outputs": [
    {
     "name": "stdout",
     "output_type": "stream",
     "text": [
      "Duplicate values in the list: [1, 2]\n"
     ]
    }
   ],
   "source": [
    "#3. Write a Python program to find duplicate values from a list and display those.\n",
    "\n",
    "\n",
    "\n",
    "def find_duplicates(numbers):\n",
    "    duplicates = []  # List to store duplicates\n",
    "    seen = set()  # Set to track seen numbers\n",
    "\n",
    "    # Iterate through the list\n",
    "    for num in numbers:\n",
    "        if num in seen:\n",
    "            # If the number is already in 'seen', it's a duplicate\n",
    "            if num not in duplicates:\n",
    "                duplicates.append(num)\n",
    "        else:\n",
    "            seen.add(num)\n",
    "\n",
    "    return duplicates\n",
    "\n",
    "# Input list\n",
    "numbers = [1, 2, 3, 4, 5, 1, 6, 7, 2, 8, 9]\n",
    "\n",
    "# Find duplicates\n",
    "duplicates = find_duplicates(numbers)\n",
    "\n",
    "# Display the results\n",
    "print(f\"Duplicate values in the list: {duplicates}\")\n"
   ]
  },
  {
   "cell_type": "code",
   "execution_count": null,
   "id": "0f201ea8-4a4a-4e7e-b204-aa061db04c50",
   "metadata": {},
   "outputs": [],
   "source": []
  }
 ],
 "metadata": {
  "kernelspec": {
   "display_name": "Python 3 (ipykernel)",
   "language": "python",
   "name": "python3"
  },
  "language_info": {
   "codemirror_mode": {
    "name": "ipython",
    "version": 3
   },
   "file_extension": ".py",
   "mimetype": "text/x-python",
   "name": "python",
   "nbconvert_exporter": "python",
   "pygments_lexer": "ipython3",
   "version": "3.13.1"
  }
 },
 "nbformat": 4,
 "nbformat_minor": 5
}
