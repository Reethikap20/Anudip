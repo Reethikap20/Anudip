{
 "cells": [
  {
   "cell_type": "code",
   "execution_count": 3,
   "id": "5112d551-574c-4b7b-9823-020287cdc43d",
   "metadata": {},
   "outputs": [
    {
     "name": "stdin",
     "output_type": "stream",
     "text": [
      "Enter a number:  5\n"
     ]
    },
    {
     "name": "stdout",
     "output_type": "stream",
     "text": [
      "The factorial of 5 is: 120\n"
     ]
    }
   ],
   "source": [
    "# 3. Write a python program finding the factorial of a given number using a while loop. \n",
    "\n",
    "# factorial using a while loop.\n",
    "def factorial(num):\n",
    "    if num < 0:\n",
    "        return \"Factorial is not defined for negative numbers.\"\n",
    "    elif num == 0:\n",
    "        return 1 \n",
    "\n",
    "    result = 1\n",
    "    while num > 1:\n",
    "        result *= num      # Multiply result by the current number.\n",
    "        num -= 1           #reduce number by 1\n",
    "    return result\n",
    "\n",
    "# Take input from user\n",
    "number = int(input(\"Enter a number: \"))\n",
    "\n",
    "#calculate and display the factorial\n",
    "factorial_result = factorial(number)\n",
    "print(f\"The factorial of {number} is: {factorial_result}\")"
   ]
  },
  {
   "cell_type": "code",
   "execution_count": null,
   "id": "2b159e5f-fbad-4711-99ea-cb07b66c744d",
   "metadata": {},
   "outputs": [],
   "source": []
  }
 ],
 "metadata": {
  "kernelspec": {
   "display_name": "Python 3 (ipykernel)",
   "language": "python",
   "name": "python3"
  },
  "language_info": {
   "codemirror_mode": {
    "name": "ipython",
    "version": 3
   },
   "file_extension": ".py",
   "mimetype": "text/x-python",
   "name": "python",
   "nbconvert_exporter": "python",
   "pygments_lexer": "ipython3",
   "version": "3.13.1"
  }
 },
 "nbformat": 4,
 "nbformat_minor": 5
}
