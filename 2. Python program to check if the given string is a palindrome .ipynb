{
 "cells": [
  {
   "cell_type": "code",
   "execution_count": 8,
   "id": "50609753-7c1a-4889-aa83-dd38c141ac05",
   "metadata": {},
   "outputs": [
    {
     "name": "stdin",
     "output_type": "stream",
     "text": [
      "Enter a string:  eye\n"
     ]
    },
    {
     "name": "stdout",
     "output_type": "stream",
     "text": [
      "\"eye\" is a palindrome.\n"
     ]
    }
   ],
   "source": [
    "# 2. Python program to check if the given string is a palindrome.\n",
    "\n",
    "#To check palindrome\n",
    "def is_palindrome(string):\n",
    "    #converting to lowercase and removing spaces\n",
    "    string = string.replace(\" \",\"\").lower()\n",
    "    #Check if the string is equal to its reverse\n",
    "    return string == string [::-1]\n",
    "\n",
    "#Input from user\n",
    "input_string = input(\"Enter a string: \")\n",
    "#Check and display result\n",
    "if is_palindrome(input_string):\n",
    "    print(f'\"{input_string}\" is a palindrome.')\n",
    "else:\n",
    "    print(f'\"{input_string}\" is not a palindrome.')"
   ]
  },
  {
   "cell_type": "code",
   "execution_count": null,
   "id": "8fc5fddc-98a5-4217-8f75-1948341b1223",
   "metadata": {},
   "outputs": [],
   "source": []
  }
 ],
 "metadata": {
  "kernelspec": {
   "display_name": "Python 3 (ipykernel)",
   "language": "python",
   "name": "python3"
  },
  "language_info": {
   "codemirror_mode": {
    "name": "ipython",
    "version": 3
   },
   "file_extension": ".py",
   "mimetype": "text/x-python",
   "name": "python",
   "nbconvert_exporter": "python",
   "pygments_lexer": "ipython3",
   "version": "3.13.1"
  }
 },
 "nbformat": 4,
 "nbformat_minor": 5
}
